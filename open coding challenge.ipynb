{
 "cells": [
  {
   "cell_type": "code",
   "execution_count": 269,
   "id": "09f25c97",
   "metadata": {},
   "outputs": [],
   "source": [
    "import requests\n",
    "import json\n",
    "import re\n",
    "import base64"
   ]
  },
  {
   "cell_type": "code",
   "execution_count": 270,
   "id": "91171e6b",
   "metadata": {},
   "outputs": [
    {
     "name": "stdout",
     "output_type": "stream",
     "text": [
      "{'challenger': 'woojinp1994@gmail.com', 'encrypted_path': 'task_3e2ee3f39854232c21858528827031a0', 'encryption_method': 'nothing', 'expires_in': '60s', 'hint': 'go to /task_3e2ee3f39854232c21858528827031a0 to get the next challenge', 'instructions': 'encrypted_path is the path to your next challenge. encryption_method is how it was encrypted.', 'level': 0}\n"
     ]
    }
   ],
   "source": [
    "email = 'woojinp1994@gmail.com'\n",
    "\n",
    "url = f'https://ciphersprint.pulley.com/{email}'\n",
    "response = requests.get(url)\n",
    "task = response.json()\n",
    "print(task)"
   ]
  },
  {
   "cell_type": "code",
   "execution_count": 271,
   "id": "0547a6d7",
   "metadata": {},
   "outputs": [
    {
     "name": "stdout",
     "output_type": "stream",
     "text": [
      "{'challenger': 'woojinp1994@gmail.com', 'encrypted_path': 'task_[53,102,54,55,50,49,56,49,55,48,48,51,48,50,53,52,55,48,56,53,56,56,98,54,52,52,54,101,101,97,53,102]', 'encryption_method': 'converted to a JSON array of ASCII values', 'expires_in': '15s', 'hint': 'you should write a program to fetch these endpoints and handle each encryption method you find.', 'instructions': 'encrypted_path is the path to your next challenge. encryption_method is how it was encrypted.', 'level': 1}\n"
     ]
    }
   ],
   "source": [
    "task_path = task['encrypted_path']\n",
    "\n",
    "url = f'https://ciphersprint.pulley.com/{task_path}'\n",
    "response = requests.get(url)\n",
    "task = response.json()\n",
    "print(task)"
   ]
  },
  {
   "cell_type": "code",
   "execution_count": 272,
   "id": "80550ec5",
   "metadata": {},
   "outputs": [
    {
     "name": "stdout",
     "output_type": "stream",
     "text": [
      "{'challenger': 'woojinp1994@gmail.com', 'encrypted_path': 'task_40a9992ahc0f315f7g1638j25ff4cfikbal1f', 'encryption_method': 'inserted some non-hex characters', 'expires_in': '1s', 'hint': 'you should write a program to fetch these endpoints and handle each encryption method you find.', 'instructions': 'encrypted_path is the path to your next challenge. encryption_method is how it was encrypted.', 'level': 2}\n"
     ]
    }
   ],
   "source": [
    "def decrypter_ascii(encrypted_path):\n",
    "    # Get ASCII values from the encrypted path\n",
    "    ascii_values = encrypted_path.split('[')[1].split(']')[0].split(',')\n",
    "    # Convert ASCII values to characters and join them to form the decrypted path\n",
    "    decrypted_path = ''.join(chr(int(x)) for x in ascii_values)\n",
    "    return decrypted_path\n",
    "\n",
    "task_path = task['encrypted_path']\n",
    "\n",
    "task_path_decrypted = 'task_' + decrypter_ascii(task_path)\n",
    "url = f'https://ciphersprint.pulley.com/{task_path_decrypted}'\n",
    "response = requests.get(url)\n",
    "task = response.json()\n",
    "print(task)"
   ]
  },
  {
   "cell_type": "code",
   "execution_count": 273,
   "id": "90e5504d",
   "metadata": {},
   "outputs": [
    {
     "name": "stdout",
     "output_type": "stream",
     "text": [
      "{'challenger': 'woojinp1994@gmail.com', 'encrypted_path': 'task_73e8c25229836b21b7e95e68593c49f5', 'encryption_method': 'circularly rotated left by 17', 'expires_in': '1s', 'hint': 'you should write a program to fetch these endpoints and handle each encryption method you find.', 'instructions': \"we've been alerted that you reached level 3, keep going!\", 'level': 3}\n"
     ]
    }
   ],
   "source": [
    "def decrypter_nonhex(encrypted_string):\n",
    "    # Fix link with regular expressions\n",
    "    decrypted_path = re.sub(r'[^a-fA-F0-9]', '', encrypted_string)\n",
    "    return decrypted_path\n",
    "\n",
    "task_path = task['encrypted_path']\n",
    "encrypted_string = task_path.split('_')[1]\n",
    "\n",
    "task_path_decrypted = 'task_' + decrypter_nonhex(encrypted_string)\n",
    "url = f'https://ciphersprint.pulley.com/{task_path_decrypted}'\n",
    "response = requests.get(url)\n",
    "task = response.json()\n",
    "print(task)"
   ]
  },
  {
   "cell_type": "code",
   "execution_count": 274,
   "id": "1f7f672e",
   "metadata": {
    "scrolled": true
   },
   "outputs": [
    {
     "name": "stdout",
     "output_type": "stream",
     "text": [
      "{'challenger': 'woojinp1994@gmail.com', 'encrypted_path': 'task_0ed5a571671a3a3f0c60e3d46a5ac3f5', 'encryption_method': 'hex decoded, encrypted with XOR, hex encoded again. key: secret', 'expires_in': '1s', 'hint': 'you should write a program to fetch these endpoints and handle each encryption method you find.', 'instructions': \"we've been alerted that you reached level 4, keep going!\", 'level': 4}\n"
     ]
    }
   ],
   "source": [
    "def decrypter_rotated(encrypted_string, shift_amount):\n",
    "    shift = int(shift_amount)  # Circular rotation \n",
    "    # we should shift string to the right, since the encryption shifted to the left\n",
    "    decrypted_string = encrypted_string[-shift:] + encrypted_string[:-shift]\n",
    "    return decrypted_string\n",
    "\n",
    "task_path = task['encrypted_path']\n",
    "encrypted_string = task_path.split('_')[1]\n",
    "shift_amount = task['encryption_method'].split(' ')[-1]\n",
    "\n",
    "task_path_decrypted = 'task_' + decrypter_rotated(encrypted_string, shift_amount)\n",
    "url = f'https://ciphersprint.pulley.com/{task_path_decrypted}'\n",
    "response = requests.get(url)\n",
    "task = response.json()\n",
    "print(task)"
   ]
  },
  {
   "cell_type": "code",
   "execution_count": 275,
   "id": "da2e34e0",
   "metadata": {},
   "outputs": [
    {
     "name": "stdout",
     "output_type": "stream",
     "text": [
      "{'challenger': 'woojinp1994@gmail.com', 'encrypted_path': 'task_b72c47dc1be2f0045e43d367f0f59667', 'encryption_method': 'scrambled! original positions as base64 encoded messagepack: 3AAgCgsTEgIcAQkNFQgUBwUbDhAZFgAGDAQYGhceHwMPHRE=', 'expires_in': '1s', 'hint': 'you should write a program to fetch these endpoints and handle each encryption method you find.', 'instructions': \"we've been alerted that you reached level 5, keep going!\", 'level': 5}\n"
     ]
    }
   ],
   "source": [
    "def decrypt_xor(encrypted_string, key):\n",
    "    # Decode the hex string\n",
    "    decoded_bytes = bytes.fromhex(encrypted_string)\n",
    "    \n",
    "    # Decrypt using XOR\n",
    "    decrypted_bytes = bytes(c ^ key[i % len(key)] for i, c in enumerate(decoded_bytes))\n",
    "    \n",
    "    # Encode in hex again\n",
    "    encoded_hex_string = decrypted_bytes.hex()\n",
    "    \n",
    "    return encoded_hex_string\n",
    "\n",
    "# denote that the string should be bytes\n",
    "key = b'secret'\n",
    "\n",
    "task_path = task['encrypted_path']\n",
    "encrypted_string = task_path.split('_')[1]\n",
    "\n",
    "task_path_decrypted = 'task_' + decrypt_xor(encrypted_string, key)\n",
    "url = f'https://ciphersprint.pulley.com/{task_path_decrypted}'\n",
    "response = requests.get(url)\n",
    "task = response.json()\n",
    "print(task)"
   ]
  },
  {
   "cell_type": "code",
   "execution_count": 276,
   "id": "9357bf7b",
   "metadata": {},
   "outputs": [
    {
     "name": "stdout",
     "output_type": "stream",
     "text": [
      "{'challenger': 'woojinp1994@gmail.com', 'encrypted_path': 'task_f530b4ea053099e587817b55eb96ad01e6c4280ccc36bab9a5802614f2237b62', 'encryption_method': 'hashed with sha256, good luck', 'expires_in': '10000000s', 'hint': 'this is a gimmick, there is no way to solve this task.', 'instructions': \"we've been alerted that you reached level 6, congratulations!\", 'level': 6}\n"
     ]
    }
   ],
   "source": [
    "def decrypt_scrambled(encrypted_string, messagepack):\n",
    "    # Decode the base64 encoded message\n",
    "    decoded_message = base64.b64decode(messagepack)\n",
    "    \n",
    "    # Interpret the decoded message as a list of integers representing original positions\n",
    "    original_positions = list(decoded_message)[3:] # Remove first 3 from set because they're weird numbers. Not exactly sure what's going on there\n",
    "    \n",
    "    # Create dictionary for positions to encrypted string\n",
    "    char_position_map = dict(zip(original_positions, encrypted_string))\n",
    "    \n",
    "    # Rearrange the characters following the position map\n",
    "    decrypted_string = ''.join(char_position_map[pos] for pos in sorted(original_positions))\n",
    "    \n",
    "    return decrypted_string\n",
    "\n",
    "task_path = task['encrypted_path']\n",
    "encrypted_string = task_path.split('_')[1]\n",
    "messagepack = task['encryption_method'].split(' ')[-1]\n",
    "\n",
    "task_path_decrypted = 'task_' + decrypt_scrambled(encrypted_string, messagepack)\n",
    "url = f'https://ciphersprint.pulley.com/{task_path_decrypted}'\n",
    "response = requests.get(url)\n",
    "task = response.json()\n",
    "print(task)"
   ]
  },
  {
   "cell_type": "code",
   "execution_count": null,
   "id": "59e39284",
   "metadata": {},
   "outputs": [],
   "source": []
  }
 ],
 "metadata": {
  "kernelspec": {
   "display_name": "Python 3 (ipykernel)",
   "language": "python",
   "name": "python3"
  },
  "language_info": {
   "codemirror_mode": {
    "name": "ipython",
    "version": 3
   },
   "file_extension": ".py",
   "mimetype": "text/x-python",
   "name": "python",
   "nbconvert_exporter": "python",
   "pygments_lexer": "ipython3",
   "version": "3.11.5"
  }
 },
 "nbformat": 4,
 "nbformat_minor": 5
}
